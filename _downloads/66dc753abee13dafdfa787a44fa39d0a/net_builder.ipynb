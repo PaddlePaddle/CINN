{
  "cells": [
    {
      "cell_type": "code",
      "execution_count": null,
      "metadata": {
        "collapsed": false
      },
      "outputs": [],
      "source": [
        "%matplotlib inline"
      ]
    },
    {
      "cell_type": "markdown",
      "metadata": {},
      "source": [
        "\n# Run model by using NetBuilder API\n\nIn this tutorial, we will introduce the ways to build and run a model using NetBuilder APIs.\n\n"
      ]
    },
    {
      "cell_type": "code",
      "execution_count": null,
      "metadata": {
        "collapsed": false
      },
      "outputs": [],
      "source": [
        "import cinn\nfrom cinn import frontend\nfrom cinn import common\nimport numpy as np\n# sphinx_gallery_thumbnail_path = './paddlepaddle.png'"
      ]
    },
    {
      "cell_type": "markdown",
      "metadata": {},
      "source": [
        "## Define the NetBuilder.\n\nUsing NetBuilder is a convenient way to build a model in CINN.\nYou can build and run a model by invoking NetBuilder's API as following.\n\n:code:`name`: the ID of NetBuilder\n\nGenerally, the API in `NetBuilder` is coarse-grained operator, in other words,\nthe DL framework like Paddle's operator.\n\n"
      ]
    },
    {
      "cell_type": "code",
      "execution_count": null,
      "metadata": {
        "collapsed": false
      },
      "outputs": [],
      "source": [
        "builder = frontend.NetBuilder(name=\"batchnorm_conv2d\")"
      ]
    },
    {
      "cell_type": "markdown",
      "metadata": {},
      "source": [
        "## Define the input variable of the model.\n\nThe input variable should be created by create_input API. Note that the variable\nhere is just a placeholder, does not need the actual data.\n\n:code:`type`: the data type of input variable, now support `Void`, `Int`, `UInt`,\n`Float`, `Bool` and `String`, the parameter is the type's bit-widths, here the\ndata type is `float32`.\n\n:code:`shape`: The shape of the input variable, note that here does not support\ndynamic shape, so the dimension value should be greater than 0 now.\n\n:code:`id_hint`: the name of variable, the defaule value is `\"\"`\n\n"
      ]
    },
    {
      "cell_type": "code",
      "execution_count": null,
      "metadata": {
        "collapsed": false
      },
      "outputs": [],
      "source": [
        "a = builder.create_input(\n    type=common.Float(32), shape=(8, 3, 224, 224), id_hint=\"x\")\nscale = builder.create_input(type=common.Float(32), shape=[3], id_hint=\"scale\")\nbias = builder.create_input(type=common.Float(32), shape=[3], id_hint=\"bias\")\nmean = builder.create_input(type=common.Float(32), shape=[3], id_hint=\"mean\")\nvariance = builder.create_input(\n    type=common.Float(32), shape=[3], id_hint=\"variance\")\nweight = builder.create_input(\n    type=common.Float(32), shape=(3, 3, 7, 7), id_hint=\"weight\")"
      ]
    },
    {
      "cell_type": "markdown",
      "metadata": {},
      "source": [
        "## Build the model by using NetBuilder API\n\nFor convenience, here we build a simple model that only consists of batchnorm and conv2d\noperators. Note that you can find the operator's detailed introduction in another\ndocument, we won't go into detail here.\n\n"
      ]
    },
    {
      "cell_type": "code",
      "execution_count": null,
      "metadata": {
        "collapsed": false
      },
      "outputs": [],
      "source": [
        "y = builder.batchnorm(a, scale, bias, mean, variance, is_test=True)\nres = builder.conv2d(y[0], weight)"
      ]
    },
    {
      "cell_type": "markdown",
      "metadata": {},
      "source": [
        "## Generate the program\n\nAfter the model building, the `builder` will generate a CINN execution program,\nand you can get it like:\n\n"
      ]
    },
    {
      "cell_type": "code",
      "execution_count": null,
      "metadata": {
        "collapsed": false
      },
      "outputs": [],
      "source": [
        "prog = builder.build()\n\n# You can print the program like:\nfor i in range(prog.size()):\n    print(prog[i])"
      ]
    },
    {
      "cell_type": "markdown",
      "metadata": {},
      "source": [
        "## Random fake input data\n\nBefore running, you should read or generate some data to feed the model's input.\nIn model building, we just create some placeholder, to get the model's running\nresult, here we random some fake input data.\n\n"
      ]
    },
    {
      "cell_type": "code",
      "execution_count": null,
      "metadata": {
        "collapsed": false
      },
      "outputs": [],
      "source": [
        "tensor_data = [\n    np.random.random([8, 3, 224, 224]).astype(\"float32\"),  # a\n    np.random.random([3]).astype(\"float32\"),  # scale\n    np.random.random([3]).astype(\"float32\"),  # bias\n    np.random.random([3]).astype(\"float32\"),  # mean\n    np.random.random([3]).astype(\"float32\"),  # variance\n    np.random.random([3, 3, 7, 7]).astype(\"float32\")  # weight\n]"
      ]
    },
    {
      "cell_type": "markdown",
      "metadata": {},
      "source": [
        "## Set target\n\nThe target identified where the model should run, now we support\ntwo targets:\n\n:code:`DefaultHostTarget`: the model will running at cpu.\n\n:code:`DefaultNVGPUTarget`: the model will running at nv gpu.\n\n"
      ]
    },
    {
      "cell_type": "code",
      "execution_count": null,
      "metadata": {
        "collapsed": false
      },
      "outputs": [],
      "source": [
        "if common.is_compiled_with_cuda():\n    target = common.DefaultNVGPUTarget()\nelse:\n    target = common.DefaultHostTarget()\n\nprint(\"Model running at \", target.arch)"
      ]
    },
    {
      "cell_type": "markdown",
      "metadata": {},
      "source": [
        "## Run program and print result\n\nFinally, you can running model by invoking function `build_and_get_output`.\nThe `build_and_get_output` accepts the input data and finally return the results\nof model, it has four parameters:\n\n:code:`target`: the model's irunning target.\n\n:code:`tensor_inputs`: the model's input variable list.\n\n:code:`input_data`: the actual data list, the order of the list must be the same as\n`tensor_inputs`, otherwise, the resulting error.\n\n:code:`tensor_outputs`: the model's output variable list, the ordering of the model's\nresult list is the same as `tensor_outputs`, here we just has one result `[res]`.\n\n"
      ]
    },
    {
      "cell_type": "code",
      "execution_count": null,
      "metadata": {
        "collapsed": false
      },
      "outputs": [],
      "source": [
        "result = prog.build_and_get_output(\n    target, [a, scale, bias, mean, variance, weight], tensor_data, [res])\n\n# print result\nprint(result[0].numpy(target))"
      ]
    }
  ],
  "metadata": {
    "kernelspec": {
      "display_name": "Python 3",
      "language": "python",
      "name": "python3"
    },
    "language_info": {
      "codemirror_mode": {
        "name": "ipython",
        "version": 3
      },
      "file_extension": ".py",
      "mimetype": "text/x-python",
      "name": "python",
      "nbconvert_exporter": "python",
      "pygments_lexer": "ipython3",
      "version": "3.6.9"
    }
  },
  "nbformat": 4,
  "nbformat_minor": 0
}