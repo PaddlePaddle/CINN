{
  "cells": [
    {
      "cell_type": "code",
      "execution_count": null,
      "metadata": {
        "collapsed": false
      },
      "outputs": [],
      "source": [
        "%matplotlib inline"
      ]
    },
    {
      "cell_type": "markdown",
      "metadata": {},
      "source": [
        "\n# Run model by using CinnBuilder API\n\nIn this tutorial, we will introduce the ways to build and run a model using CinnBuilder APIs.\n\n"
      ]
    },
    {
      "cell_type": "code",
      "execution_count": null,
      "metadata": {
        "collapsed": false
      },
      "outputs": [],
      "source": [
        "import cinn\nfrom cinn import frontend\nfrom cinn import common\nimport numpy as np\n# sphinx_gallery_thumbnail_path = './paddlepaddle.png'"
      ]
    },
    {
      "cell_type": "markdown",
      "metadata": {},
      "source": [
        "## Define the CinnBuilder.\n\nUsing CinnBuilder is a convenient way to build a model in CINN. You can build and run\na model by invoking CinnBuilder's API as following.\n\n:code:`name`: the ID of CinnBuilder\n\n"
      ]
    },
    {
      "cell_type": "code",
      "execution_count": null,
      "metadata": {
        "collapsed": false
      },
      "outputs": [],
      "source": [
        "builder = frontend.CinnBuilder(name=\"add_conv\")"
      ]
    },
    {
      "cell_type": "markdown",
      "metadata": {},
      "source": [
        "## Define the input variable of the model.\n\nThe input variable should be created by create_input API. Note that the variable\nhere is just a placeholder, does not need the actual data.\n\n:code:`type`: the data type of input variable, now support `Void`, `Int`, `UInt`,\n`Float`, `Bool` and `String`, the parameter is the type's bit-widths, here the\ndata type is `float32`.\n\n:code:`shape`: The shape of the input variable, note that here does not support\ndynamic shape, so the dimension value should be greater than 0 now.\n\n:code:`id_hint`: the name of variable, the defaule value is `\"\"`\n\n"
      ]
    },
    {
      "cell_type": "code",
      "execution_count": null,
      "metadata": {
        "collapsed": false
      },
      "outputs": [],
      "source": [
        "a = builder.create_input(\n    type=common.Float(32), shape=(1, 24, 56, 56), id_hint=\"A\")\nb = builder.create_input(\n    type=common.Float(32), shape=(1, 24, 56, 56), id_hint=\"B\")\nc = builder.create_input(\n    type=common.Float(32), shape=(144, 24, 1, 1), id_hint=\"C\")"
      ]
    },
    {
      "cell_type": "markdown",
      "metadata": {},
      "source": [
        "## Build the model by using CinnBuilder API\n\nFor convenience, here we build a simple model that only consists of add and conv\noperators. Note that you can find the operator's detailed introduction in another\ndocument, we won't go into detail here.\n\nGenerally, the API in CinnBuilder is fine-grained operator, in other words,\nthe algebra or basic DL operator.\n\n"
      ]
    },
    {
      "cell_type": "code",
      "execution_count": null,
      "metadata": {
        "collapsed": false
      },
      "outputs": [],
      "source": [
        "d = builder.add(a, b)\ne = builder.conv(d, c)"
      ]
    },
    {
      "cell_type": "markdown",
      "metadata": {},
      "source": [
        "## Generate the program\n\nAfter the model building, the CinnBuilder will generate a CINN execution program,\nand you can get it by invoking `builder.build()` function.\n\n"
      ]
    },
    {
      "cell_type": "code",
      "execution_count": null,
      "metadata": {
        "collapsed": false
      },
      "outputs": [],
      "source": [
        "prog = builder.build()\n\n# You can print the returned program as following code:\nfor i in range(prog.size()):\n    print(prog[i])"
      ]
    },
    {
      "cell_type": "markdown",
      "metadata": {},
      "source": [
        "## Random fake input data\n\nBefore running, you should read or generate some data to feed the model's input.\nIn model building, we just create some placeholder, to get the model's running\nresult, here we random some fake input data.\n\n"
      ]
    },
    {
      "cell_type": "code",
      "execution_count": null,
      "metadata": {
        "collapsed": false
      },
      "outputs": [],
      "source": [
        "tensor_data = [\n    np.random.random([1, 24, 56, 56]).astype(\"float32\"),\n    np.random.random([1, 24, 56, 56]).astype(\"float32\"),\n    np.random.random([144, 24, 1, 1]).astype(\"float32\")\n]"
      ]
    },
    {
      "cell_type": "markdown",
      "metadata": {},
      "source": [
        "## Set target\n\nThe target identified where the model should run, now we support\ntwo targets:\n\n:code:`DefaultHostTarget`: the model will running at cpu.\n\n:code:`DefaultNVGPUTarget`: the model will running at nv gpu.\n\n"
      ]
    },
    {
      "cell_type": "code",
      "execution_count": null,
      "metadata": {
        "collapsed": false
      },
      "outputs": [],
      "source": [
        "if common.is_compiled_with_cuda():\n    target = common.DefaultNVGPUTarget()\nelse:\n    target = common.DefaultHostTarget()\n\nprint(\"Model running at \", target.arch)"
      ]
    },
    {
      "cell_type": "markdown",
      "metadata": {},
      "source": [
        "## Run program and print result\n\nFinally, you can running model by invoking function `build_and_get_output`.\nThe `build_and_get_output` accepts the input data and finally return the results\nof model, it has four parameters:\n\n:code:`target`: the model's irunning target.\n\n:code:`tensor_inputs`: the model's input variable list.\n\n:code:`input_data`: the actual data list, the order of the list must be the same as\n`tensor_inputs`, otherwise, the resulting error.\n\n:code:`tensor_outputs`: the model's output variable list, the ordering of the model's\nresult list is the same as `tensor_outputs`, here we just has one result `[e]`.\n\n"
      ]
    },
    {
      "cell_type": "code",
      "execution_count": null,
      "metadata": {
        "collapsed": false
      },
      "outputs": [],
      "source": [
        "result = prog.build_and_get_output(target, [a, b, c], tensor_data, [e])\n\n# print result\nprint(result[0].numpy(target))"
      ]
    }
  ],
  "metadata": {
    "kernelspec": {
      "display_name": "Python 3",
      "language": "python",
      "name": "python3"
    },
    "language_info": {
      "codemirror_mode": {
        "name": "ipython",
        "version": 3
      },
      "file_extension": ".py",
      "mimetype": "text/x-python",
      "name": "python",
      "nbconvert_exporter": "python",
      "pygments_lexer": "ipython3",
      "version": "3.6.9"
    }
  },
  "nbformat": 4,
  "nbformat_minor": 0
}