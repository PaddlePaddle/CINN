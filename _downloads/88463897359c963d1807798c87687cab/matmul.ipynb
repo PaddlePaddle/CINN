{
  "cells": [
    {
      "cell_type": "code",
      "execution_count": null,
      "metadata": {
        "collapsed": false
      },
      "outputs": [],
      "source": [
        "%matplotlib inline"
      ]
    },
    {
      "cell_type": "markdown",
      "metadata": {},
      "source": [
        "\n# Ways to optimize Matrix Multiplication on CPU\n\nIn this tutorial, we will introduce several ways to optimize the performance of the matrix multiplication on X86 CPU.\n\n"
      ]
    },
    {
      "cell_type": "code",
      "execution_count": null,
      "metadata": {
        "collapsed": false
      },
      "outputs": [],
      "source": [
        "import cinn\nimport numpy as np\nimport time\nfrom cinn import runtime\n# sphinx_gallery_thumbnail_path = './paddlepaddle.png'"
      ]
    },
    {
      "cell_type": "markdown",
      "metadata": {},
      "source": [
        "Declare the basic computation for a matmul\n\n"
      ]
    },
    {
      "cell_type": "code",
      "execution_count": null,
      "metadata": {
        "collapsed": false
      },
      "outputs": [],
      "source": [
        "m = cinn.Expr(1024)\nn = cinn.Expr(1024)\nk = cinn.Expr(1024)\n\nA = cinn.Placeholder(\"float32\", \"A\", [m, k])\nB = cinn.Placeholder(\"float32\", \"B\", [k, n])\n\n# k1 is a reduce axis\nk1 = cinn.Var(k.as_int32(), \"k1\")\n\nC = cinn.compute([\n    m, n\n], lambda vs: cinn.reduce_sum(A(vs[0], k1.expr()) * B(k1.expr(), vs[1]), [k1]),\n                 \"C\")\n\nstages = cinn.create_stages([C])"
      ]
    },
    {
      "cell_type": "markdown",
      "metadata": {},
      "source": [
        "Fake input data, here we create a runtime buffer for each input of the generated function.\n\n"
      ]
    },
    {
      "cell_type": "code",
      "execution_count": null,
      "metadata": {
        "collapsed": false
      },
      "outputs": [],
      "source": [
        "a = runtime.cinn_buffer_t(\n    np.random.randn(m.int(), k.int()).astype(\"float32\"),\n    runtime.cinn_x86_device, 32)\nb = runtime.cinn_buffer_t(\n    np.random.randn(m.int(), k.int()).astype(\"float32\"),\n    runtime.cinn_x86_device, 32)\nc = runtime.cinn_buffer_t(\n    np.zeros([m.int(), n.int()]).astype(\"float32\"), runtime.cinn_x86_device,\n    32)"
      ]
    },
    {
      "cell_type": "markdown",
      "metadata": {},
      "source": [
        "Here is a helper function to JIT compile the generated program and test the performance\n\n"
      ]
    },
    {
      "cell_type": "code",
      "execution_count": null,
      "metadata": {
        "collapsed": false
      },
      "outputs": [],
      "source": [
        "def test_performance(stages,\n                     fn_inputs=[A.to_tensor(), B.to_tensor(), C],\n                     input_args=[a, b, c]):\n    '''\n    fake input data, compile and test program's performance\n    '''\n    target = cinn.Target()\n    builder = cinn.Module.Builder(\"matmul\", target)\n\n    func = cinn.lower(\"matmul\", stages, fn_inputs)\n    builder.add_function(func)\n    module = builder.build()\n\n    jit = cinn.ExecutionEngine()\n    jit.link(module)\n\n    args = [runtime.cinn_pod_value_t(_) for _ in input_args]\n    matmul = jit.lookup(\"matmul\")\n\n    repeat = 4\n\n    tic = time.perf_counter()\n    for i in range(repeat):\n        matmul(args)\n    toc = time.perf_counter()\n    miniseconds = (toc - tic) / repeat * 1e3\n    print(f\"Takes {miniseconds:0.3f} ms\")\n\n\n# The basic computation without any schedule has a performance as follows\ntest_performance(stages)"
      ]
    },
    {
      "cell_type": "markdown",
      "metadata": {},
      "source": [
        "## Blocking\n\n"
      ]
    },
    {
      "cell_type": "code",
      "execution_count": null,
      "metadata": {
        "collapsed": false
      },
      "outputs": [],
      "source": [
        "stages = cinn.create_stages([C])\nbn = 32\ni_outer, i_inner, j_outer, j_inner = stages[C].tile(0, 1, bn, bn)\nk_outer, k_inner = stages[C].split(\"k1\", 4)\nstages[C].reorder([i_outer, j_outer, k_outer, k_inner, i_inner, j_inner])\n\n# The performance is\ntest_performance(stages)"
      ]
    },
    {
      "cell_type": "markdown",
      "metadata": {},
      "source": [
        "## Vectorization\n\n"
      ]
    },
    {
      "cell_type": "code",
      "execution_count": null,
      "metadata": {
        "collapsed": false
      },
      "outputs": [],
      "source": [
        "stages = cinn.create_stages([C])\nbn = 32\ni_outer, i_inner, j_outer, j_inner = stages[C].tile(0, 1, bn, bn)\nk_outer, k_inner = stages[C].split(\"k1\", 4)\nstages[C].reorder([i_outer, j_outer, k_outer, k_inner, i_inner, j_inner])\nstages[C].vectorize(j_inner, 8)\n\n# The performance is\ntest_performance(stages)"
      ]
    },
    {
      "cell_type": "markdown",
      "metadata": {},
      "source": [
        "## Loop Permutation\n\n"
      ]
    },
    {
      "cell_type": "code",
      "execution_count": null,
      "metadata": {
        "collapsed": false
      },
      "outputs": [],
      "source": [
        "stages = cinn.create_stages([C])\ni_outer, i_inner, j_outer, j_inner = stages[C].tile(0, 1, bn, bn)\nk_outer, k_inner = stages[C].split(\"k1\", 4)\nstages[C].reorder([i_outer, j_outer, k_outer, i_inner, k_inner, j_inner])\nstages[C].vectorize(j_inner, 8)\nstages[C].unroll(5)\n\ntest_performance(stages)"
      ]
    },
    {
      "cell_type": "markdown",
      "metadata": {},
      "source": [
        "## Array Packing\n\n"
      ]
    },
    {
      "cell_type": "code",
      "execution_count": null,
      "metadata": {
        "collapsed": false
      },
      "outputs": [],
      "source": [
        "packedB = cinn.compute(\n    [n / bn, k, cinn.Expr(bn)], lambda x: B(x[1], x[0] * bn + x[2]), \"packedB\")\nC = cinn.compute([m, n], lambda x: cinn.reduce_sum(\n    A(x[0], k1.expr()) * packedB(x[1] / bn, k1.expr(), x[1] % bn), [k1]), \"C\")\n\nstages = cinn.create_stages([C])\nstages[packedB].vectorize(2, 8)\n\ni_outer, i_inner, j_outer, j_inner = stages[C].tile(0, 1, bn, bn)\nk_outer, k_inner = stages[C].split(\"k1\", 4)\nstages[C].reorder([i_outer, j_outer, k_outer, i_inner, k_inner, j_inner])\nstages[C].vectorize(j_inner, 8)\n\n# We make the packedB as another input of the generated function and allocate a runtime buffer for it.\npackedB_buf = runtime.cinn_buffer_t(\n    np.zeros([n.int() // bn, k.int(), bn]).astype(\"float32\"),\n    runtime.cinn_x86_device, 32)\n\n# The final performance is\ntest_performance(\n    stages,\n    fn_inputs=[A.to_tensor(), B.to_tensor(), C, packedB],\n    input_args=[a, b, c, packedB_buf])"
      ]
    }
  ],
  "metadata": {
    "kernelspec": {
      "display_name": "Python 3",
      "language": "python",
      "name": "python3"
    },
    "language_info": {
      "codemirror_mode": {
        "name": "ipython",
        "version": 3
      },
      "file_extension": ".py",
      "mimetype": "text/x-python",
      "name": "python",
      "nbconvert_exporter": "python",
      "pygments_lexer": "ipython3",
      "version": "3.6.9"
    }
  },
  "nbformat": 4,
  "nbformat_minor": 0
}