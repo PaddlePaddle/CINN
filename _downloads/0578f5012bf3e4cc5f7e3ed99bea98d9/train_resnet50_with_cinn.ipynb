{
  "cells": [
    {
      "cell_type": "code",
      "execution_count": null,
      "metadata": {
        "collapsed": false
      },
      "outputs": [],
      "source": [
        "%matplotlib inline"
      ]
    },
    {
      "cell_type": "markdown",
      "metadata": {},
      "source": [
        "\n# Training ResNet50 using Paddle compiled with CINN\n\n**Note:** Docker execution environment is required, and you should use the docker image \n``registry.baidubce.com/paddlepaddle/paddle:latest-dev-cuda11.2-cudnn8-gcc82``\nto create a container for trying the next steps in this tutorial. You can use the following\ncommand to create a required container:\n\n.. code-block:: bash\n\n    # Docker version 20.10.11, build dea9396\n    docker run --gpus all --name cinn_train_test \\\n        --shm-size=\"8g\" --net=host -v $PWD:/work \\\n        -it registry.baidubce.com/paddlepaddle/paddle:latest-dev-cuda11.2-cudnn8-gcc82 /bin/bash\n\nAll the code below should be executed in the ``cinn_train_test`` container.\n\nThis is a beginner-friendly tutorial on how to train models using Paddle compiled with CINN.\nThis tutorial assumes that you have installed Paddle compiled with CINN. Otherwise, please\nenable the ``-DWITH_CINN`` compilation option to recompile Paddle and reinstall it. To avoid\nthe tedious compilation process, you can also use the following command to install the \npre-compiled ``.whl`` package.\n\n.. code-block:: bash\n\n    wget https://paddle-inference-dist.bj.bcebos.com/CINN_release/paddlepaddle_gpu-0.0.0-cp36-cp36m-linux_x86_64.whl\n    pip3.6 install paddlepaddle_gpu-0.0.0-cp36-cp36m-linux_x86_64.whl\n    export LD_LIBRARY_PATH=/usr/local/lib/python3.6/dist-packages/paddle/libs/:$LD_LIBRARY_PATH\n    # Please use python3.6 to execute the following python codes.\n\n"
      ]
    },
    {
      "cell_type": "code",
      "execution_count": null,
      "metadata": {
        "collapsed": false
      },
      "outputs": [],
      "source": [
        "import os\n# Paddle compiled with CINN only supports the single GPU training now.\n# CUDA_VISIBLE_DEVICES should be set before paddle imported.\nos.environ[\"CUDA_VISIBLE_DEVICES\"] = \"0\"\nimport numpy as np\nimport paddle\n# sphinx_gallery_thumbnail_path = './paddlepaddle.png'"
      ]
    },
    {
      "cell_type": "markdown",
      "metadata": {},
      "source": [
        "## Enable static execution mode\n\nCurrently, we only support static graphs, so call ``paddle.enable_static()``  in advance.\n\n\n"
      ]
    },
    {
      "cell_type": "code",
      "execution_count": null,
      "metadata": {
        "collapsed": false
      },
      "outputs": [],
      "source": [
        "paddle.enable_static()"
      ]
    },
    {
      "cell_type": "markdown",
      "metadata": {},
      "source": [
        "## Enable training with CINN in Paddle\n\nTo train models with CINN, you need to set ``FLAGS_use_cinn`` to true.\n\nWhen training models with CINN, some Paddle operators will be replaced by CINN primitives.\nYou can use the flag ``FLAGS_allow_cinn_ops`` to specify Paddle operators replaced by CINN.\n\nThe fellowing operators are supported in CINN now.\n``batch_norm,batch_norm_grad,conv2d,conv2d_grad, elementwise_add,elementwise_add_grad,relu,relu_grad,sum``\n\n\n"
      ]
    },
    {
      "cell_type": "code",
      "execution_count": null,
      "metadata": {
        "collapsed": false
      },
      "outputs": [],
      "source": [
        "allow_ops = \"batch_norm;batch_norm_grad;conv2d;conv2d_grad;elementwise_add;elementwise_add_grad;relu;relu_grad;sum\"\ntry:\n    paddle.set_flags({\n        'FLAGS_use_cinn': True,\n        'FLAGS_allow_cinn_ops': allow_ops\n    })\nexcept ValueError:\n    # If the used PaddlePaddle is not compiled with CINN, just skip and\n    # the following steps will not train with CINN.\n    pass"
      ]
    },
    {
      "cell_type": "markdown",
      "metadata": {},
      "source": [
        "## Select Device On Multi-GPU System\n**Note:** At present, Paddle compiled with CINN only supports the single GPU.\nIf you train models with CINN on a multi-GPU system, you should specify a device\nby setting ``CUDA_VISIBLE_DEVICES=GPU_ID`` in the system environment.\n\nThen you can specify the device id by using ``paddle.CUDAPlace(device_id))`` to get the device context.\nThe sample code is shown below:\n\n\n"
      ]
    },
    {
      "cell_type": "code",
      "execution_count": null,
      "metadata": {
        "collapsed": false
      },
      "outputs": [],
      "source": [
        "place = paddle.CUDAPlace(0)"
      ]
    },
    {
      "cell_type": "markdown",
      "metadata": {},
      "source": [
        "## Build the model by using Paddle API\n\nThis example shows how to train ``ResNet50`` by using Paddle compiled with CINN.\nYou can find more about Paddle APIs from this `website <https://www.paddlepaddle.org.cn/documentation/docs/en/api/index_en.html>`_.\nWe set the batch size to 32 and input shape to [32, 3, 224, 224].\n\n\n"
      ]
    },
    {
      "cell_type": "code",
      "execution_count": null,
      "metadata": {
        "collapsed": false
      },
      "outputs": [],
      "source": [
        "batch_size = 32\nstartup_program = paddle.static.Program()\nmain_program = paddle.static.Program()\nwith paddle.static.program_guard(main_program, startup_program):\n    image = paddle.static.data(\n        name='image', shape=[-1, 3, 224, 224], dtype='float32')\n    label = paddle.static.data(name='label', shape=[-1], dtype='int64')\n\n    model = paddle.vision.models.resnet50()\n    prediction = model(image)\n    loss = paddle.nn.functional.cross_entropy(input=prediction, label=label)\n    loss = paddle.mean(loss)\n\n    adam = paddle.optimizer.Adam(learning_rate=0.0125)\n    adam.minimize(loss)"
      ]
    },
    {
      "cell_type": "markdown",
      "metadata": {},
      "source": [
        "## Generate random fake data as input\n\nBefore running, you can load or generate some data as the feeding of a model.\nHere, we generate some fake input data by NumPy replacing the real data.\n\n\n"
      ]
    },
    {
      "cell_type": "code",
      "execution_count": null,
      "metadata": {
        "collapsed": false
      },
      "outputs": [],
      "source": [
        "loop_num = 10\nfeed = []\nfor _ in range(loop_num):\n    fake_input = {'image': np.random.randint(0, 256, size=[batch_size, 3, 224, 224]).astype('float32'), \\\n                 'label': np.random.randint(0, 1000, size=[batch_size]).astype('int64')}\n    feed.append(fake_input)"
      ]
    },
    {
      "cell_type": "markdown",
      "metadata": {},
      "source": [
        "## Executing program and print result\n\nThen we create an executor to train the model.\nYou can learn more about Paddle from `paddlepaddle.org.cn <https://www.paddlepaddle.org.cn/>`_.\n\n\n"
      ]
    },
    {
      "cell_type": "code",
      "execution_count": null,
      "metadata": {
        "collapsed": false
      },
      "outputs": [],
      "source": [
        "exe = paddle.static.Executor(place)\n\ncompiled_prog = paddle.static.CompiledProgram(main_program).with_data_parallel(\n    loss_name=loss.name)\nscope = paddle.static.Scope()\n\nwith paddle.static.scope_guard(scope):\n    exe.run(startup_program)\n    for step in range(loop_num):\n        loss_v = exe.run(\n            compiled_prog,\n            feed=feed[step],\n            fetch_list=[loss],\n            return_numpy=True)\n        print(\"Train step: {} loss: {}\".format(step, loss_v[0][0]))"
      ]
    }
  ],
  "metadata": {
    "kernelspec": {
      "display_name": "Python 3",
      "language": "python",
      "name": "python3"
    },
    "language_info": {
      "codemirror_mode": {
        "name": "ipython",
        "version": 3
      },
      "file_extension": ".py",
      "mimetype": "text/x-python",
      "name": "python",
      "nbconvert_exporter": "python",
      "pygments_lexer": "ipython3",
      "version": "3.6.9"
    }
  },
  "nbformat": 4,
  "nbformat_minor": 0
}