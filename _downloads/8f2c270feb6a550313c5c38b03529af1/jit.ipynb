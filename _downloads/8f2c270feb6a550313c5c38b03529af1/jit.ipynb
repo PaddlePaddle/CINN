{
  "cells": [
    {
      "cell_type": "code",
      "execution_count": null,
      "metadata": {
        "collapsed": false
      },
      "outputs": [],
      "source": [
        "%matplotlib inline"
      ]
    },
    {
      "cell_type": "markdown",
      "metadata": {},
      "source": [
        "\n# JIT in CINN\n\nIn this tutorial, we will introduce the JIT module that execute the DSL on X86 and NV GPU.\n\n"
      ]
    },
    {
      "cell_type": "code",
      "execution_count": null,
      "metadata": {
        "collapsed": false
      },
      "outputs": [],
      "source": [
        "import cinn\nimport numpy as np\nfrom cinn import runtime\n# sphinx_gallery_thumbnail_path = './paddlepaddle.png'"
      ]
    },
    {
      "cell_type": "markdown",
      "metadata": {},
      "source": [
        "declare some variables for latter use\n\n"
      ]
    },
    {
      "cell_type": "code",
      "execution_count": null,
      "metadata": {
        "collapsed": false
      },
      "outputs": [],
      "source": [
        "m = cinn.Expr(64)\nn = cinn.Expr(64)\nk = cinn.Expr(8)\nbn = cinn.Expr(32)"
      ]
    },
    {
      "cell_type": "markdown",
      "metadata": {},
      "source": [
        "## Decleare the computation\n\n"
      ]
    },
    {
      "cell_type": "code",
      "execution_count": null,
      "metadata": {
        "collapsed": false
      },
      "outputs": [],
      "source": [
        "A = cinn.Placeholder(\"float32\", \"A\", [m, k])\nB = cinn.Placeholder(\"float32\", \"B\", [k, n])\n\nkr = cinn.Var(k.as_int32(), \"kr\")\nC = cinn.compute([\n    m, n\n], lambda v: cinn.reduce_sum(A(v[0], kr.expr()) * B(kr.expr(), v[1]), [kr]),\n                 \"C\")\n\nstages = cinn.create_stages([C])\n\ntarget = cinn.Target()\nbuilder = cinn.Module.Builder(\"matmul\", target)\n\nfunc = cinn.lower(\"matmul\", stages, [A.to_tensor(), B.to_tensor(), C])\nbuilder.add_function(func)\nmodule = builder.build()"
      ]
    },
    {
      "cell_type": "markdown",
      "metadata": {},
      "source": [
        "## Create a JIT engine.\n\n\n"
      ]
    },
    {
      "cell_type": "code",
      "execution_count": null,
      "metadata": {
        "collapsed": false
      },
      "outputs": [],
      "source": [
        "jit = cinn.ExecutionEngine()\njit.link(module)"
      ]
    },
    {
      "cell_type": "markdown",
      "metadata": {},
      "source": [
        "Execute the compiled function\n\n\n"
      ]
    },
    {
      "cell_type": "code",
      "execution_count": null,
      "metadata": {
        "collapsed": false
      },
      "outputs": [],
      "source": [
        "a = runtime.cinn_buffer_t(\n    np.random.randn(m.int(), k.int()).astype(\"float32\"),\n    runtime.cinn_x86_device)\nb = runtime.cinn_buffer_t(\n    np.random.randn(m.int(), k.int()).astype(\"float32\"),\n    runtime.cinn_x86_device)\nc = runtime.cinn_buffer_t(\n    np.zeros([m.int(), n.int()]).astype(\"float32\"), runtime.cinn_x86_device)\n\nargs = [runtime.cinn_pod_value_t(_) for _ in [a, b, c]]\nmatmul = jit.lookup(\"matmul\")\nmatmul(args)\n\nprint(c.numpy())"
      ]
    }
  ],
  "metadata": {
    "kernelspec": {
      "display_name": "Python 3",
      "language": "python",
      "name": "python3"
    },
    "language_info": {
      "codemirror_mode": {
        "name": "ipython",
        "version": 3
      },
      "file_extension": ".py",
      "mimetype": "text/x-python",
      "name": "python",
      "nbconvert_exporter": "python",
      "pygments_lexer": "ipython3",
      "version": "3.6.9"
    }
  },
  "nbformat": 4,
  "nbformat_minor": 0
}